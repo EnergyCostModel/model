{
 "cells": [
  {
   "cell_type": "code",
   "execution_count": null,
   "metadata": {},
   "outputs": [],
   "source": [
    "import pandas as pd\n",
    "import requests\n",
    "import io\n",
    "import matplotlib.pyplot as plt\n",
    "from datetime import datetime\n",
    "import glob\n",
    "from scipy import stats\n",
    "import scienceplots\n",
    "\n",
    "plt.style.use('science')\n",
    "\n",
    "FOLDER = datetime.now().strftime('%Y%m%d')\n",
    "\n",
    "ASSETS = \"../assets/\"+FOLDER+\"/\"\n",
    "INPUT = \"../input/\"+FOLDER+\"/\"\n",
    "OUTPUT = \"../output/\"+FOLDER+\"/\"\n",
    "\n",
    "glob.os.makedirs(ASSETS, exist_ok=True)\n",
    "glob.os.makedirs(INPUT, exist_ok=True)\n",
    "glob.os.makedirs(OUTPUT, exist_ok=True)\n",
    "\n",
    "LINE_COLOR='#1B4244'\n",
    "LINE_COLOR_RED='#FB4142'\n",
    "LINE_COLOR_BLUE='#3F86BC'"
   ]
  },
  {
   "cell_type": "code",
   "execution_count": null,
   "metadata": {},
   "outputs": [],
   "source": [
    "import pandas as pd\n",
    "import requests\n",
    "from bs4 import BeautifulSoup\n",
    "\n",
    "# Download the webpage\n",
    "url = 'https://inflationdata.com/Inflation/Consumer_Price_Index/HistoricalCPI.aspx'\n",
    "response = requests.get(url)\n",
    "\n",
    "# Parse HTML \n",
    "soup = BeautifulSoup(response.text, 'html.parser')\n",
    "\n",
    "# Find the table with CPI data\n",
    "table = soup.find('table')\n",
    "\n",
    "# 2) Let pandas read any tables found in that HTML snippet\n",
    "dfs = pd.read_html(table.prettify())\n",
    "\n",
    "# In this snippet, the table of interest should be the first one:\n",
    "df = dfs[0]\n",
    "\n",
    "# 3) The columns should be: [Year, Jan, Feb, Mar, ..., Dec, Ave.]\n",
    "#    but let’s verify/rename them for clarity. \n",
    "#    (If read_html picks up the header row correctly, you can skip rename)\n",
    "\n",
    "df.columns = [\n",
    "    \"Year\",\"Jan\",\"Feb\",\"Mar\",\"Apr\",\"May\",\"Jun\",\"Jul\",\"Aug\",\"Sep\",\"Oct\",\"Nov\",\"Dec\",\"Ave.\"\n",
    "]\n",
    "\n",
    "# 4) Drop the \"Ave.\" column, since it’s an annual average (not monthly)\n",
    "df = df.drop(columns=[\"Ave.\"])\n",
    "\n",
    "# 5) Reshape from wide to long format: each row = (Year, MonthName, Value)\n",
    "df_long = df.melt(\n",
    "    id_vars=\"Year\",         # Keep the \"Year\" column as identifier\n",
    "    var_name=\"MonthName\",   # Name for the melted column (Jan, Feb, Mar, etc.)\n",
    "    value_name=\"Value\"      # Name for the CPI value\n",
    ")\n",
    "\n",
    "# 6) Map month names to month numbers so we can build a date\n",
    "month_map = {\n",
    "    \"Jan\": 1, \"Feb\": 2, \"Mar\": 3,\n",
    "    \"Apr\": 4, \"May\": 5, \"Jun\": 6,\n",
    "    \"Jul\": 7, \"Aug\": 8, \"Sep\": 9,\n",
    "    \"Oct\": 10,\"Nov\": 11,\"Dec\": 12\n",
    "}\n",
    "df_long[\"Month\"] = df_long[\"MonthName\"].map(month_map)\n",
    "\n",
    "# 7) Create a proper datetime column (assume \"Day=1\")\n",
    "df_long[\"Date\"] = pd.to_datetime(\n",
    "    df_long[\"Year\"].astype(str) + \"-\" +\n",
    "    df_long[\"Month\"].astype(str) + \"-01\"\n",
    ")\n",
    "\n",
    "# 8) Convert the “Value” text to numeric (coerce blanks or &nbsp; → NaN)\n",
    "df_long[\"Value\"] = pd.to_numeric(df_long[\"Value\"], errors=\"coerce\")\n",
    "\n",
    "# 9) Drop rows that have NaN in Value (future months or blanks)\n",
    "df_long = df_long.dropna(subset=[\"Value\"])\n",
    "\n",
    "# 10) Sort chronologically and set Date as the index\n",
    "df_long = df_long.sort_values(\"Date\").set_index(\"Date\")\n",
    "\n",
    "# 11) If you only want the monthly CPI column (and not Year, MonthName, Month):\n",
    "df_final = df_long[[\"Value\"]].rename(columns={\"Value\":\"CPI\"})\n",
    "\n",
    "# df_final now has a Date index (monthly) and one column “CPI”\n",
    "df_final.to_csv(INPUT+\"cpi.csv\")"
   ]
  },
  {
   "cell_type": "code",
   "execution_count": null,
   "metadata": {},
   "outputs": [],
   "source": []
  },
  {
   "cell_type": "code",
   "execution_count": null,
   "metadata": {},
   "outputs": [],
   "source": [
    "# prompt: download all pages (max 5000 per page from this api) https://api.eia.gov/v2/electricity/retail-sales/data/?frequency=monthly&data[0]=price&facets[sectorid][]=COM&facets[sectorid][]=IND&start=2009-01&offset=0&length=100&api_key=eLo7fkC9HFI6ThInSbQsD2mrVcw2yiSrZBYGQaP9\n",
    "\n",
    "\n",
    "def download_all_pages(api_url, max_pages=100000, page_size=4000):\n",
    "    all_data = []\n",
    "    offset = 0\n",
    "    page_number = 0\n",
    "\n",
    "    while True:\n",
    "      page_number += 1\n",
    "      url = f\"{api_url}&offset={offset}&length={page_size}\"\n",
    "      print(f\"Downloading page {page_number}: {url}\")\n",
    "\n",
    "      try:\n",
    "        response = requests.get(url)\n",
    "        response.raise_for_status()  # Raise HTTPError for bad responses (4xx or 5xx)\n",
    "        data = response.json()\n",
    "        \n",
    "        if not data.get('response', {}).get('data'): #Handle empty responses\n",
    "            break\n",
    "\n",
    "        all_data.extend(data['response']['data'])\n",
    "        offset += page_size\n",
    "\n",
    "        if page_number >= max_pages or len(data['response']['data']) < page_size :\n",
    "            break # Stop when exceeding the max pages or when a page contains fewer elements than the requested length\n",
    "\n",
    "      except requests.exceptions.RequestException as e:\n",
    "        print(f\"Error downloading page {page_number}: {e}\")\n",
    "        break # Stop on errors\n",
    "\n",
    "    return all_data\n",
    "\n",
    "\n",
    "api_url = \"https://api.eia.gov/v2/electricity/retail-sales/data/?frequency=monthly&data[0]=price&facets[sectorid][]=COM&facets[sectorid][]=IND&start=2001-01&api_key=eLo7fkC9HFI6ThInSbQsD2mrVcw2yiSrZBYGQaP9\"\n",
    "all_data = download_all_pages(api_url)\n",
    "\n",
    "#Convert the data to a DataFrame\n",
    "df = pd.DataFrame(all_data)\n",
    "df.to_csv(INPUT+\"electricity_data.csv\", index=False)\n",
    "\n",
    "#Print or save the DataFrame as you require\n",
    "print(df.head()) # Print the first 5 rows to inspect the data\n",
    "#df.to_csv('electricity_data.csv', index=False) # Uncomment to save as a csv file\n"
   ]
  },
  {
   "cell_type": "code",
   "execution_count": null,
   "metadata": {},
   "outputs": [],
   "source": [
    "df.set_index('period', inplace=True)\n",
    "df.index = pd.to_datetime(df.index)\n",
    "df"
   ]
  },
  {
   "cell_type": "code",
   "execution_count": null,
   "metadata": {},
   "outputs": [],
   "source": [
    "df.sort_index(inplace=True)\n",
    "df"
   ]
  },
  {
   "cell_type": "code",
   "execution_count": null,
   "metadata": {},
   "outputs": [],
   "source": [
    "df['price'] = pd.to_numeric(df['price'], errors='coerce')"
   ]
  },
  {
   "cell_type": "code",
   "execution_count": null,
   "metadata": {},
   "outputs": [],
   "source": [
    "mean_price_by_sector_month = df.groupby(['sectorid', pd.Grouper(freq='MS')])['price'].mean().unstack().T\n",
    "mean_price_by_sector_month"
   ]
  },
  {
   "cell_type": "code",
   "execution_count": null,
   "metadata": {},
   "outputs": [],
   "source": [
    "# Read CPI.xlsx file into a dataframe\n",
    "cpi_df = pd.read_csv(INPUT+'cpi.csv')\n",
    "# Convert the 'Date' column to datetime\n",
    "cpi_df['Date'] = pd.to_datetime(cpi_df['Date'])\n",
    "\n",
    "# Set Date as index\n",
    "cpi_df.set_index('Date', inplace=True)\n",
    "\n",
    "# Sort the index to ensure chronological order\n",
    "cpi_df.sort_index(inplace=True)"
   ]
  },
  {
   "cell_type": "code",
   "execution_count": null,
   "metadata": {},
   "outputs": [],
   "source": [
    "# Merge cpi_df with mean_price_by_sector_month on index (date)\n",
    "mean_price_by_sector_month = mean_price_by_sector_month.join(cpi_df)\n"
   ]
  },
  {
   "cell_type": "code",
   "execution_count": null,
   "metadata": {},
   "outputs": [],
   "source": [
    "with plt.style.context(['science','ieee']):\n",
    "    plt.figure(figsize=(4, 2.25))\n",
    "    plt.grid(True, linestyle='-', alpha=0.7, linewidth=0.2)\n",
    "    plt.xticks(rotation=45)\n",
    "    plt.tight_layout()\n",
    "\n",
    "    plt.plot(mean_price_by_sector_month.index, mean_price_by_sector_month['COM'],  label='Commercial', linewidth=0.4, color=LINE_COLOR)\n",
    "#    plt.plot(mean_price_by_sector_month.index, mean_price_by_sector_month['IND'], label='Industrial')\n",
    "\n",
    "    plt.title('Average Commercial Electricity Prices', fontsize=12)\n",
    "    plt.ylabel('Price (cent/kWh)', fontsize=10)\n",
    "    plt.savefig(ASSETS+'electricityprices1.png')\n",
    "    plt.show()"
   ]
  },
  {
   "cell_type": "code",
   "execution_count": null,
   "metadata": {},
   "outputs": [],
   "source": [
    "mean_price_by_sector_month['COM_CPI'] = mean_price_by_sector_month['COM'] / mean_price_by_sector_month['CPI']\n",
    "mean_price_by_sector_month['IND_CPI'] = mean_price_by_sector_month['IND'] / mean_price_by_sector_month['CPI']"
   ]
  },
  {
   "cell_type": "code",
   "execution_count": null,
   "metadata": {},
   "outputs": [],
   "source": [
    "with plt.style.context(['science','ieee']):\n",
    "    plt.figure(figsize=(4, 2.25))\n",
    "    plt.grid(True, linestyle='-', alpha=0.7, linewidth=0.2)\n",
    "    plt.xticks(rotation=45)\n",
    "    plt.tight_layout()\n",
    "\n",
    "    plt.plot(mean_price_by_sector_month.index, mean_price_by_sector_month['COM_CPI'],  label='Commercial', linewidth=0.4, color=LINE_COLOR)\n",
    "#    plt.plot(mean_price_by_sector_month.index, mean_price_by_sector_month['IND'], label='Industrial')\n",
    "\n",
    "    plt.title('Average Commercial Electricity Prices in CPI', fontsize=12)\n",
    "    plt.ylabel('Price/CPI (cent/kWh)', fontsize=10)\n",
    "    plt.savefig(ASSETS+'electricityprices2.png')\n",
    "    plt.show()"
   ]
  },
  {
   "cell_type": "code",
   "execution_count": null,
   "metadata": {},
   "outputs": [],
   "source": [
    "from prophet import Prophet\n",
    "\n",
    "# Prepare data for Prophet (requires 'ds' and 'y' columns)\n",
    "# Create separate dataframes for COM and IND\n",
    "com_df = pd.DataFrame({\n",
    "    'ds': mean_price_by_sector_month.index,\n",
    "    'y': mean_price_by_sector_month['COM_CPI']\n",
    "}).reset_index(drop=True)\n",
    "\n",
    "ind_df = pd.DataFrame({\n",
    "    'ds': mean_price_by_sector_month.index,\n",
    "    'y': mean_price_by_sector_month['IND_CPI']\n",
    "}).reset_index(drop=True)\n",
    "\n",
    "# Create and fit Prophet models\n",
    "m_com = Prophet(yearly_seasonality=True, weekly_seasonality=False, daily_seasonality=False)\n",
    "m_com.fit(com_df)\n",
    "\n",
    "m_ind = Prophet(yearly_seasonality=True, weekly_seasonality=False, daily_seasonality=False)\n",
    "m_ind.fit(ind_df)\n",
    "\n",
    "# Create future dates dataframe\n",
    "future_dates = m_com.make_future_dataframe(periods=120*12, freq='MS')  # 120 years into future (2025-2145)\n",
    "\n",
    "# Make predictions\n",
    "forecast_com = m_com.predict(future_dates)\n",
    "forecast_ind = m_ind.predict(future_dates)\n",
    "\n",
    "# Plot the forecasts\n",
    "plt.figure(figsize=(15, 8))\n",
    "plt.plot(com_df['ds'], com_df['y'], 'b-', label='Historical COM')\n",
    "plt.plot(ind_df['ds'], ind_df['y'], 'r-', label='Historical IND')\n",
    "plt.plot(forecast_com['ds'], forecast_com['yhat'], 'b--', label='Forecast COM')\n",
    "plt.plot(forecast_ind['ds'], forecast_ind['yhat'], 'r--', label='Forecast IND')\n",
    "\n",
    "plt.fill_between(forecast_com['ds'], \n",
    "                 forecast_com['yhat_lower'], \n",
    "                 forecast_com['yhat_upper'], \n",
    "                 color='blue', alpha=0.1)\n",
    "plt.fill_between(forecast_ind['ds'], \n",
    "                 forecast_ind['yhat_lower'], \n",
    "                 forecast_ind['yhat_upper'], \n",
    "                 color='red', alpha=0.1)\n",
    "\n",
    "plt.title('Electricity Price Forecast by Sector (2009-2035)')\n",
    "plt.xlabel('Year')\n",
    "plt.ylabel('Cents per kilowatt-hour')\n",
    "plt.legend()\n",
    "plt.grid(True, linestyle='--', alpha=0.7)\n",
    "plt.xticks(rotation=45)\n",
    "plt.tight_layout()"
   ]
  },
  {
   "cell_type": "code",
   "execution_count": null,
   "metadata": {},
   "outputs": [],
   "source": [
    "cpi_2020 = cpi_df['1980':'2000'].copy()\n",
    "\n",
    "# Perform linear regression\n",
    "slope, intercept, r_value, p_value, std_err = stats.linregress(cpi_2020.index.astype('int64'), cpi_2020['CPI'])\n",
    "\n",
    "# Create the regression line\n",
    "regression_line = slope * cpi_2020.index.astype('int64') + intercept"
   ]
  },
  {
   "cell_type": "code",
   "execution_count": null,
   "metadata": {},
   "outputs": [],
   "source": [
    "with plt.style.context(['science','ieee']):\n",
    "    plt.figure(figsize=(4, 2.25))\n",
    "    plt.grid(True, linestyle='-', alpha=0.7, linewidth=0.2)\n",
    "    plt.xticks(rotation=45)\n",
    "    plt.tight_layout()\n",
    "    plt.plot(cpi_df[:df.index[-1]].index, cpi_df[:df.index[-1]]['CPI'], linewidth=0.4, linestyle='-', color=LINE_COLOR, label='CPI')\n",
    "    plt.plot(cpi_2020.index, regression_line, linewidth=0.4, linestyle='--', color=LINE_COLOR_RED)\n",
    "    plt.ylabel('CPI', fontsize=10)\n",
    "    plt.title('Consumer Price Index (CPI) Over Time', fontsize=12)\n",
    "    plt.legend()\n",
    "    plt.savefig(ASSETS+'cpi2.png')\n",
    "    plt.show()    "
   ]
  },
  {
   "cell_type": "code",
   "execution_count": null,
   "metadata": {},
   "outputs": [],
   "source": [
    "# Create a new date index from 2026 to 2145 yearly\n",
    "new_date_idx = pd.date_range(start=cpi_df.index[-1], end='2145-01-01', freq='MS')\n",
    "\n",
    "# Create a new DataFrame for the forecast\n",
    "new_cpi_forecast = pd.DataFrame(index=new_date_idx)\n",
    "\n",
    "# Calculate the forecasted InverseSqrtEfficiency using the linear regression equation\n",
    "new_cpi_forecast['CPI'] = slope * (new_cpi_forecast.index.astype('int64') - cpi_df.index.astype('int64')[-1]) + cpi_df['CPI'][-1]\n",
    "\n",
    "new_cpi_forecast"
   ]
  },
  {
   "cell_type": "code",
   "execution_count": null,
   "metadata": {},
   "outputs": [],
   "source": [
    "cpi_df = pd.concat([cpi_df, new_cpi_forecast])"
   ]
  },
  {
   "cell_type": "code",
   "execution_count": null,
   "metadata": {},
   "outputs": [],
   "source": [
    "with plt.style.context(['science','ieee']):\n",
    "    plt.figure(figsize=(4, 2.25))\n",
    "    plt.grid(True, linestyle='-', alpha=0.7, linewidth=0.2)\n",
    "    plt.xticks(rotation=45)\n",
    "    plt.tight_layout()\n",
    "    plt.plot(cpi_df[:df.index[-1]].index, cpi_df[:df.index[-1]]['CPI'], linewidth=0.4, linestyle='-', color=LINE_COLOR, label='CPI')\n",
    "    plt.plot(cpi_df[df.index[-1]:].index, cpi_df[df.index[-1]:]['CPI'], linewidth=0.4, linestyle='--', color=LINE_COLOR_RED, label='CPI forecast')\n",
    "    plt.plot(cpi_2020.index, regression_line, linewidth=0.4, linestyle='--', color=LINE_COLOR_BLUE)\n",
    "    plt.ylabel('CPI', fontsize=10)\n",
    "    plt.title('Consumer Price Index (CPI) Over Time', fontsize=12)\n",
    "    plt.legend()\n",
    "    plt.savefig(ASSETS+'cpiforecast1.png')\n",
    "    plt.show()    \n"
   ]
  },
  {
   "cell_type": "code",
   "execution_count": null,
   "metadata": {},
   "outputs": [],
   "source": [
    "forecast_com.set_index('ds', inplace=True)\n",
    "merged_com=pd.merge(forecast_com,cpi_df, left_index=True, right_index=True)\n",
    "merged_com['v']=merged_com['yhat']*merged_com['CPI']\n",
    "\n",
    "forecast_ind.set_index('ds', inplace=True)\n",
    "merged_ind=pd.merge(forecast_ind,cpi_df, left_index=True, right_index=True)\n",
    "merged_ind['v']=merged_ind['yhat']*merged_ind['CPI']"
   ]
  },
  {
   "cell_type": "code",
   "execution_count": null,
   "metadata": {},
   "outputs": [],
   "source": [
    "future_com = merged_com[mean_price_by_sector_month.index[-1]+pd.DateOffset(months=1):][['v','yhat','CPI']].rename(columns={'v': 'COM','yhat':'COM_CPI'})\n",
    "future_ind = merged_ind[mean_price_by_sector_month.index[-1]+pd.DateOffset(months=1):][['v','yhat']].rename(columns={'v': 'IND','yhat':'IND_CPI'})"
   ]
  },
  {
   "cell_type": "code",
   "execution_count": null,
   "metadata": {},
   "outputs": [],
   "source": [
    "future = pd.merge(future_com,future_ind,left_index=True,right_index=True)"
   ]
  },
  {
   "cell_type": "code",
   "execution_count": null,
   "metadata": {},
   "outputs": [],
   "source": [
    "future_com"
   ]
  },
  {
   "cell_type": "code",
   "execution_count": null,
   "metadata": {},
   "outputs": [],
   "source": [
    "# Append future data to mean_price_by_sector_month\n",
    "mean_price_by_sector_month = pd.concat([mean_price_by_sector_month, future], axis=0)"
   ]
  },
  {
   "cell_type": "code",
   "execution_count": null,
   "metadata": {},
   "outputs": [],
   "source": [
    "mean_price_by_sector_month"
   ]
  },
  {
   "cell_type": "code",
   "execution_count": null,
   "metadata": {},
   "outputs": [],
   "source": [
    "with plt.style.context(['science','ieee']):\n",
    "    plt.figure(figsize=(4, 2.25))\n",
    "    plt.grid(True, linestyle='-', alpha=0.7, linewidth=0.2)\n",
    "    plt.xticks(rotation=45)\n",
    "    plt.tight_layout()\n",
    "    plt.plot(mean_price_by_sector_month[:df.index[-1]].index, mean_price_by_sector_month[:df.index[-1]]['COM_CPI'], linewidth=0.4, linestyle='-', color=LINE_COLOR)\n",
    "    plt.plot(mean_price_by_sector_month[df.index[-1]:].index, mean_price_by_sector_month[df.index[-1]:]['COM_CPI'], linewidth=0.4, linestyle='--', color=LINE_COLOR_RED)\n",
    "    plt.ylabel('Price/CPI (cent/kWh)', fontsize=10)\n",
    "    plt.title('Average Commercial Electricity Price in CPI (forecast)', fontsize=12)\n",
    "    plt.savefig(ASSETS+'electricitypricesforecast2.png')\n",
    "    plt.show()    \n"
   ]
  },
  {
   "cell_type": "code",
   "execution_count": null,
   "metadata": {},
   "outputs": [],
   "source": [
    "with plt.style.context(['science','ieee']):\n",
    "    plt.figure(figsize=(4, 2.25))\n",
    "    plt.grid(True, linestyle='-', alpha=0.7, linewidth=0.2)\n",
    "    plt.xticks(rotation=45)\n",
    "    plt.tight_layout()\n",
    "    plt.plot(mean_price_by_sector_month[:df.index[-1]].index, mean_price_by_sector_month[:df.index[-1]]['COM'], linewidth=0.4, linestyle='-', color=LINE_COLOR)\n",
    "    plt.plot(mean_price_by_sector_month[df.index[-1]:].index, mean_price_by_sector_month[df.index[-1]:]['COM'], linewidth=0.4, linestyle='--', color=LINE_COLOR_RED)\n",
    "    plt.ylabel('Price (cent/kWh)', fontsize=10)\n",
    "    plt.title('Average Commercial Electricity Price (forecast)', fontsize=12)\n",
    "    plt.savefig(ASSETS+'electricitypricesforecast1.png')\n",
    "    plt.show()    \n"
   ]
  },
  {
   "cell_type": "code",
   "execution_count": null,
   "metadata": {},
   "outputs": [],
   "source": [
    "mean_price_by_sector_month.to_csv(OUTPUT+'electricity_price.csv')"
   ]
  },
  {
   "cell_type": "code",
   "execution_count": null,
   "metadata": {},
   "outputs": [],
   "source": []
  },
  {
   "cell_type": "code",
   "execution_count": null,
   "metadata": {},
   "outputs": [],
   "source": []
  }
 ],
 "metadata": {
  "kernelspec": {
   "display_name": "ai",
   "language": "python",
   "name": "python3"
  },
  "language_info": {
   "codemirror_mode": {
    "name": "ipython",
    "version": 3
   },
   "file_extension": ".py",
   "mimetype": "text/x-python",
   "name": "python",
   "nbconvert_exporter": "python",
   "pygments_lexer": "ipython3",
   "version": "3.13.2"
  }
 },
 "nbformat": 4,
 "nbformat_minor": 2
}
