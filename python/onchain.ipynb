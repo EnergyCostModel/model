{
 "cells": [
  {
   "cell_type": "code",
   "execution_count": null,
   "metadata": {},
   "outputs": [],
   "source": [
    "import pandas as pd\n",
    "import requests\n",
    "import io\n",
    "import matplotlib.pyplot as plt\n",
    "import numpy as np\n",
    "from datetime import datetime\n",
    "import glob\n",
    "from scipy import stats\n",
    "import scienceplots\n",
    "\n",
    "plt.style.use('science')\n",
    "\n",
    "FOLDER = datetime.now().strftime('%Y%m%d')\n",
    "ASSETS = \"../assets/\"+FOLDER+\"/\"\n",
    "INPUT = \"../input/\"+FOLDER+\"/\"\n",
    "OUTPUT = \"../output/\"+FOLDER+\"/\"\n",
    "\n",
    "glob.os.makedirs(ASSETS, exist_ok=True)\n",
    "glob.os.makedirs(INPUT, exist_ok=True)\n",
    "glob.os.makedirs(OUTPUT, exist_ok=True)\n",
    "\n",
    "LINE_COLOR='#1B4244'\n",
    "\n"
   ]
  },
  {
   "cell_type": "code",
   "execution_count": null,
   "metadata": {},
   "outputs": [],
   "source": [
    "import pandas as pd\n",
    "import json\n",
    "\n",
    "def download_from_blockchainapi(name):\n",
    "    \"\"\"\n",
    "    Download a CSV file from BlockchainAPI and save it to the specified filename.\n",
    "    \"\"\"\n",
    "    filename = INPUT+name + \".json\"    \n",
    "    response = requests.get(f\"https://api.blockchain.info/charts/{name}?timespan=10000weeks&rollingAverage=24hours&format=json&sampled=false\")\n",
    "    if response.status_code == 200:\n",
    "        with open(filename, 'wb') as f:\n",
    "            f.write(response.content)\n",
    "        print(f\"Downloaded {filename}\")\n",
    "    else:\n",
    "        print(f\"Failed to download {filename}. Status code: {response.status_code}\")\n",
    "\n",
    "\n",
    "download_from_blockchainapi('hash-rate')\n",
    "download_from_blockchainapi('market-price')\n",
    "download_from_blockchainapi('total-bitcoins')\n",
    "download_from_blockchainapi('transaction-fees')\n"
   ]
  },
  {
   "cell_type": "code",
   "execution_count": null,
   "metadata": {},
   "outputs": [],
   "source": [
    "\n",
    "# Load the JSON data from the provided file path\n",
    "file_path = INPUT+'hash-rate.json'\n",
    "with open(file_path, 'r') as file:\n",
    "    data = json.load(file)\n",
    "\n",
    "# Extract hash-rate and market-price data\n",
    "hash_rate_data = data['values']\n",
    "\n",
    "# Load the JSON data from the provided file path\n",
    "file_path = INPUT+'market-price.json'\n",
    "with open(file_path, 'r') as file:\n",
    "    data = json.load(file)\n",
    "\n",
    "market_price_data = data['values']\n",
    "\n",
    "# Create separate DataFrames for hash-rate and market-price\n",
    "hash_rate_df = pd.DataFrame(hash_rate_data)\n",
    "market_price_df = pd.DataFrame(market_price_data)\n",
    "\n",
    "# Rename columns for clarity\n",
    "hash_rate_df.columns = ['timestamp', 'hash_rate']\n",
    "market_price_df.columns = ['timestamp', 'market_price']\n",
    "\n",
    "# Convert timestamp to datetime format\n",
    "hash_rate_df['timestamp'] = pd.to_datetime(hash_rate_df['timestamp'], unit='s')\n",
    "market_price_df['timestamp'] = pd.to_datetime(market_price_df['timestamp'], unit='s')\n",
    "\n",
    "# Merge the two DataFrames on timestamp\n",
    "merged_df = pd.merge(hash_rate_df, market_price_df, on='timestamp', how='outer')\n"
   ]
  },
  {
   "cell_type": "code",
   "execution_count": null,
   "metadata": {},
   "outputs": [],
   "source": [
    "market_price_df"
   ]
  },
  {
   "cell_type": "code",
   "execution_count": null,
   "metadata": {},
   "outputs": [],
   "source": [
    "# Load the JSON data from the new provided file path\n",
    "file_path_total_bitcoins = INPUT+'total-bitcoins.json'\n",
    "with open(file_path_total_bitcoins, 'r') as file:\n",
    "    data_total_bitcoins = json.load(file)\n",
    "\n",
    "# Extract total-bitcoins and market-price data\n",
    "total_bitcoins_data = data_total_bitcoins['values']\n",
    "\n",
    "# Create separate DataFrames for total-bitcoins and market-price\n",
    "total_bitcoins_df = pd.DataFrame(total_bitcoins_data)\n",
    "\n",
    "# Rename columns for clarity\n",
    "total_bitcoins_df.columns = ['timestamp', 'total_bitcoins']\n",
    "\n",
    "# Convert timestamp to datetime format\n",
    "total_bitcoins_df['timestamp'] = pd.to_datetime(total_bitcoins_df['timestamp'], unit='s')\n",
    "total_bitcoins_df.set_index('timestamp', inplace=True)\n",
    "\n"
   ]
  },
  {
   "cell_type": "code",
   "execution_count": null,
   "metadata": {},
   "outputs": [],
   "source": [
    "total_bitcoins_df=total_bitcoins_df.resample('D').last()"
   ]
  },
  {
   "cell_type": "code",
   "execution_count": null,
   "metadata": {},
   "outputs": [],
   "source": [
    "# Load the JSON data from the new provided file path\n",
    "file_path_tran_fee = INPUT+'transaction-fees.json'\n",
    "with open(file_path_tran_fee, 'r') as file:\n",
    "    data_tran_fee = json.load(file)\n",
    "\n",
    "# Extract total-bitcoins and market-price data\n",
    "tran_fee_data = data_tran_fee['values']\n",
    "\n",
    "# Create separate DataFrames for total-bitcoins and market-price\n",
    "tran_fee_df = pd.DataFrame(tran_fee_data)\n",
    "\n",
    "# Rename columns for clarity\n",
    "tran_fee_df.columns = ['timestamp', 'daily_transaction_fees']\n",
    "\n",
    "# Convert timestamp to datetime format\n",
    "tran_fee_df['timestamp'] = pd.to_datetime(tran_fee_df['timestamp'], unit='s')\n",
    "tran_fee_df.set_index('timestamp', inplace=True)"
   ]
  },
  {
   "cell_type": "code",
   "execution_count": null,
   "metadata": {},
   "outputs": [],
   "source": [
    "with plt.style.context(['science','ieee']):\n",
    "    plt.figure(figsize=(4, 2.25))\n",
    "    plt.grid(True, linestyle='-', alpha=0.7, linewidth=0.2)\n",
    "    plt.xticks(rotation=45)\n",
    "    plt.tight_layout()\n",
    "    plt.plot(tran_fee_df.index, tran_fee_df[\"daily_transaction_fees\"],color=LINE_COLOR, linewidth=0.4)\n",
    "    plt.title('Daily Transaction Fees', fontsize=12)\n",
    "    plt.ylabel('Fee (BTC/day)', fontsize=10)\n",
    "    plt.legend()\n",
    "    plt.savefig(ASSETS+'transactionfees1.png')\n",
    "    plt.show()"
   ]
  },
  {
   "cell_type": "code",
   "execution_count": null,
   "metadata": {},
   "outputs": [],
   "source": [
    "merged_df.set_index('timestamp', inplace=True)\n"
   ]
  },
  {
   "cell_type": "code",
   "execution_count": null,
   "metadata": {},
   "outputs": [],
   "source": [
    "with plt.style.context(['science','ieee']):\n",
    "    plt.figure(figsize=(4, 2.25))\n",
    "    plt.grid(True, linestyle='-', alpha=0.7, linewidth=0.2)\n",
    "    plt.xticks(rotation=45)\n",
    "    plt.tight_layout()\n",
    "    plt.plot(merged_df[\"hash_rate\"].index, merged_df[\"hash_rate\"],color=LINE_COLOR, linewidth=0.4)\n",
    "    plt.title('Global Bitcoin Hashrate', fontsize=12)\n",
    "    plt.ylabel('Hashrate (TH/s)', fontsize=10)\n",
    "    plt.savefig(ASSETS+'hashrate1.png')\n",
    "    plt.show()"
   ]
  },
  {
   "cell_type": "code",
   "execution_count": null,
   "metadata": {},
   "outputs": [],
   "source": [
    "# prompt: merge merged_df and total_bitcoins_df\n",
    "\n",
    "onchain_df = pd.merge(merged_df,tran_fee_df, left_index=True, right_index=True, how='inner')\n",
    "onchain_df.to_csv(OUTPUT+'onchain.csv')"
   ]
  },
  {
   "cell_type": "code",
   "execution_count": null,
   "metadata": {},
   "outputs": [],
   "source": [
    "import pandas as pd\n",
    "\n",
    "def create_btc_time_series():\n",
    "    # Define the data as lists\n",
    "    years = [\n",
    "        '2009-01-03', '2012-11-28', '2016-06-09', '2020-05-11', '2024-04-20', '2028-06-01', '2032-06-01', '2036-06-01', \n",
    "        '2040-06-01', '2044-06-01', '2048-06-01', '2052-06-01', '2056-06-01', '2060-06-01', '2064-06-01', '2068-06-01', \n",
    "        '2072-06-01', '2076-06-01', '2080-06-01', '2084-06-01', '2088-06-01', '2092-06-01', '2096-06-01', '2100-06-01', \n",
    "        '2104-06-01', '2108-06-01', '2112-06-01', '2116-06-01', '2120-06-01', '2124-06-01', '2128-06-01', '2132-06-01', \n",
    "        '2136-06-01', '2140-06-01'\n",
    "    ]\n",
    "\n",
    "    block_reward = [\n",
    "        50, 25, 12.5, 6.25, 3.125, 1.5625, 0.78125, 0.390625, 0.1953125,\n",
    "        0.09765625, 0.048828125, 0.024414063, 0.012207031, 0.006103516,\n",
    "        0.003051758, 0.001525879, 0.000762939, 0.00038147, 0.000190735,\n",
    "        0.000095367, 0.000047684, 0.000023842, 0.000011921, 0.00000596,\n",
    "        0.00000298, 0.00000149, 0.00000075, 0.00000037, 0.00000019,\n",
    "        0.00000009, 0.00000005, 0.00000002, 0.00000001, 0.00000001\n",
    "    ]\n",
    "\n",
    "    total_btc_mined = [\n",
    "        0, 10500000, 15750000, 18375000, 19687500, 20343750, 20671875,\n",
    "        20835937.5, 20917968.75, 20958984.375, 20979492.1875, 20989746.09375,\n",
    "        20994873.046875, 20997436.5234375, 20998718.26171875, 20999359.130859375,\n",
    "        20999679.565429688, 20999839.782714844, 20999919.891357422,\n",
    "        20999959.945678711, 20999979.972839355, 20999989.986419678,\n",
    "        20999994.993209839, 20999997.496604919, 20999998.74830246,\n",
    "        20999999.37415123, 20999999.687075615, 20999999.843537807,\n",
    "        20999999.921768904, 20999999.960884452, 20999999.980442226,\n",
    "        20999999.990221113, 20999999.995110556, 21000000\n",
    "    ]\n",
    "\n",
    "    new_btc_mined = [\n",
    "        0, 10500000, 5250000, 2625000, 1312500, 656250, 328125, 164062.5,\n",
    "        82031.25, 41015.625, 20507.8125, 10253.90625, 5126.953125,\n",
    "        2563.4765625, 1281.73828125, 640.869140625, 320.4345703125,\n",
    "        160.21728515625, 80.108642578125, 40.0543212890625, 20.02716064453125,\n",
    "        10.013580322265625, 5.0067901611328125, 2.5033950805664062,\n",
    "        1.2516975402832031, 0.6258487701416016, 0.3129243850708008,\n",
    "        0.1564621925354004, 0.0782310962677002, 0.0391155481338501,\n",
    "        0.01955777406692505, 0.009778887033462525, 0.0048894435167312625,\n",
    "        0.0048894435167312625\n",
    "    ]\n",
    "\n",
    "    pct_all_btc_mined = [\n",
    "        \"0.00%\", \"50.00%\", \"75.00%\", \"87.50%\", \"93.75%\", \"96.88%\", \"98.44%\",\n",
    "        \"99.22%\", \"99.61%\", \"99.80%\", \"99.90%\", \"99.95%\", \"99.98%\", \"99.99%\",\n",
    "        \"99.994%\", \"99.997%\", \"99.998%\", \"99.999%\", \"99.9996%\", \"99.9998%\",\n",
    "        \"99.9999%\", \"99.99995%\", \"99.99998%\", \"99.99999%\", \"99.999994%\",\n",
    "        \"99.999997%\", \"99.999999%\", \"99.9999993%\", \"99.9999996%\",\n",
    "        \"99.9999998%\", \"99.9999999%\", \"99.99999995%\", \"99.99999998%\", \"100.00%\"\n",
    "    ]\n",
    "\n",
    "    # Create a DataFrame from the data\n",
    "    df = pd.DataFrame({\n",
    "        'Year': years,\n",
    "        'Block Reward': block_reward,\n",
    "        'Total BTC Mined': total_btc_mined,\n",
    "        'New BTC Mined': new_btc_mined,\n",
    "        '% of All BTC Mined': pct_all_btc_mined\n",
    "    })\n",
    "\n",
    "    # Convert the 'Year' column to a datetime column representing January 1 of that year\n",
    "    df['Date'] = pd.to_datetime(df['Year'])\n",
    "\n",
    "    # Set the datetime column as the index and drop the 'Year' column if desired\n",
    "    df.set_index('Date', inplace=True)\n",
    "    df.drop(columns='Year', inplace=True)\n",
    "\n",
    "    return df"
   ]
  },
  {
   "cell_type": "code",
   "execution_count": null,
   "metadata": {},
   "outputs": [],
   "source": [
    "sim_btc = create_btc_time_series()\n",
    "sim_btc"
   ]
  },
  {
   "cell_type": "code",
   "execution_count": null,
   "metadata": {},
   "outputs": [],
   "source": [
    "sim_btc_res= sim_btc[['Total BTC Mined']].resample('D').interpolate(method='linear')"
   ]
  },
  {
   "cell_type": "code",
   "execution_count": null,
   "metadata": {},
   "outputs": [],
   "source": [
    "sim_btc_res.rename(columns={'Total BTC Mined':'total_bitcoins'}).to_csv(OUTPUT+'simulated_bitcoins.csv')\n",
    "sim_btc.rename(columns={'Total BTC Mined':'total_bitcoins'}).to_csv(OUTPUT+'simulated_bitcoins_lores.csv')"
   ]
  },
  {
   "cell_type": "code",
   "execution_count": null,
   "metadata": {},
   "outputs": [],
   "source": [
    "with plt.style.context(['science','ieee']):\n",
    "    plt.figure(figsize=(4, 3))\n",
    "    plt.plot(total_bitcoins_df.index, total_bitcoins_df['total_bitcoins'], label='Mined Bitcoins', linewidth=0.4, color=LINE_COLOR)\n",
    "    plt.plot(sim_btc_res.index, sim_btc_res['Total BTC Mined'], 'r-', label='Simulated Mined Bitcoins' , linewidth=0.4)\n",
    "    plt.vlines(sim_btc.index,0,sim_btc['Total BTC Mined'], colors='b', linestyles='dashed', label='Halving Events', linewidth=0.2)\n",
    "\n",
    "    plt.title('Mined Bitcoins', fontsize=12)\n",
    "    plt.ylabel('Bitcoins (BTC)', fontsize=10)\n",
    "    plt.grid(True, linestyle='--', alpha=0.7)\n",
    "    plt.legend()\n",
    "    # Rotate x-axis labels for better readability\n",
    "    plt.xticks(rotation=45)\n",
    "\n",
    "    # Add some padding to prevent label cutoff\n",
    "    plt.tight_layout()\n",
    "    plt.show()"
   ]
  },
  {
   "cell_type": "code",
   "execution_count": null,
   "metadata": {},
   "outputs": [],
   "source": [
    "future_bitcoins = sim_btc_res[total_bitcoins_df.index[-1]:][['Total BTC Mined']].rename(columns={'Total BTC Mined': 'total_bitcoins'})"
   ]
  },
  {
   "cell_type": "code",
   "execution_count": null,
   "metadata": {},
   "outputs": [],
   "source": [
    "delta = total_bitcoins_df[\"total_bitcoins\"][-1]-future_bitcoins['total_bitcoins'][0]\n",
    "total_bitcoins_df[\"total_bitcoins\"][-1],future_bitcoins['total_bitcoins'][0]"
   ]
  },
  {
   "cell_type": "code",
   "execution_count": null,
   "metadata": {},
   "outputs": [],
   "source": [
    "future_bitcoins['total_bitcoins'] = future_bitcoins['total_bitcoins']+delta"
   ]
  },
  {
   "cell_type": "code",
   "execution_count": null,
   "metadata": {},
   "outputs": [],
   "source": [
    "total_bitcoins_df[\"total_bitcoins\"][-1],future_bitcoins['total_bitcoins'][0]"
   ]
  },
  {
   "cell_type": "code",
   "execution_count": null,
   "metadata": {},
   "outputs": [],
   "source": [
    "total_bitcoins_df = pd.concat([total_bitcoins_df, future_bitcoins[1:]], axis=0)"
   ]
  },
  {
   "cell_type": "code",
   "execution_count": null,
   "metadata": {},
   "outputs": [],
   "source": []
  },
  {
   "cell_type": "code",
   "execution_count": null,
   "metadata": {},
   "outputs": [],
   "source": [
    "difff=sim_btc_res.diff()"
   ]
  },
  {
   "cell_type": "code",
   "execution_count": null,
   "metadata": {},
   "outputs": [],
   "source": [
    "with plt.style.context(['science','ieee']):\n",
    "    plt.figure(figsize=(4, 2.25))\n",
    "    plt.grid(True, linestyle='-', alpha=0.7, linewidth=0.2)\n",
    "    plt.xticks(rotation=45)\n",
    "    plt.tight_layout()\n",
    "    plt.plot(difff.index[2:], difff['Total BTC Mined'][2:], color=LINE_COLOR, linewidth=0.4)\n",
    "    plt.ylabel('Reward (BTC)')\n",
    "    plt.title('Daily Block Rewards')\n",
    "    plt.savefig(ASSETS+'blockrewards1.png')\n",
    "    plt.show()"
   ]
  },
  {
   "cell_type": "code",
   "execution_count": null,
   "metadata": {},
   "outputs": [],
   "source": [
    "with plt.style.context(['science','ieee']):\n",
    "    plt.figure(figsize=(4, 2.25))\n",
    "    plt.grid(True, linestyle='-', alpha=0.7, linewidth=0.2)\n",
    "    plt.xticks(rotation=45)\n",
    "    plt.tight_layout()\n",
    "    plt.plot(total_bitcoins_df.index, total_bitcoins_df['total_bitcoins'],color=LINE_COLOR, linewidth=0.4, label='Mined Bitcoins')\n",
    "    plt.vlines(sim_btc.index,0,sim_btc['Total BTC Mined'], colors='b', linestyles='dashed', label='Halving Events', linewidth=0.2)\n",
    "    plt.title('Bitcoins in Circulation', fontsize=12)\n",
    "    plt.ylabel('Bitcoins (BTC)', fontsize=10)\n",
    "    plt.legend()\n",
    "    plt.savefig(ASSETS+'minedbitcoin1.png')\n",
    "    plt.show()"
   ]
  },
  {
   "cell_type": "code",
   "execution_count": null,
   "metadata": {},
   "outputs": [],
   "source": [
    "total_bitcoins_df.to_csv(OUTPUT+'total_bitcoins.csv')"
   ]
  },
  {
   "cell_type": "code",
   "execution_count": null,
   "metadata": {},
   "outputs": [],
   "source": []
  },
  {
   "cell_type": "code",
   "execution_count": null,
   "metadata": {},
   "outputs": [],
   "source": []
  },
  {
   "cell_type": "code",
   "execution_count": null,
   "metadata": {},
   "outputs": [],
   "source": []
  },
  {
   "cell_type": "code",
   "execution_count": null,
   "metadata": {},
   "outputs": [],
   "source": []
  },
  {
   "cell_type": "code",
   "execution_count": null,
   "metadata": {},
   "outputs": [],
   "source": []
  },
  {
   "cell_type": "code",
   "execution_count": null,
   "metadata": {},
   "outputs": [],
   "source": []
  },
  {
   "cell_type": "code",
   "execution_count": null,
   "metadata": {},
   "outputs": [],
   "source": []
  },
  {
   "cell_type": "code",
   "execution_count": null,
   "metadata": {},
   "outputs": [],
   "source": []
  },
  {
   "cell_type": "code",
   "execution_count": null,
   "metadata": {},
   "outputs": [],
   "source": []
  },
  {
   "cell_type": "code",
   "execution_count": null,
   "metadata": {},
   "outputs": [],
   "source": []
  },
  {
   "cell_type": "code",
   "execution_count": null,
   "metadata": {},
   "outputs": [],
   "source": []
  },
  {
   "cell_type": "code",
   "execution_count": null,
   "metadata": {},
   "outputs": [],
   "source": []
  },
  {
   "cell_type": "code",
   "execution_count": null,
   "metadata": {},
   "outputs": [],
   "source": []
  },
  {
   "cell_type": "code",
   "execution_count": null,
   "metadata": {},
   "outputs": [],
   "source": []
  },
  {
   "cell_type": "code",
   "execution_count": null,
   "metadata": {},
   "outputs": [],
   "source": []
  },
  {
   "cell_type": "code",
   "execution_count": null,
   "metadata": {},
   "outputs": [],
   "source": []
  },
  {
   "cell_type": "code",
   "execution_count": null,
   "metadata": {},
   "outputs": [],
   "source": []
  },
  {
   "cell_type": "code",
   "execution_count": null,
   "metadata": {},
   "outputs": [],
   "source": []
  },
  {
   "cell_type": "code",
   "execution_count": null,
   "metadata": {},
   "outputs": [],
   "source": []
  },
  {
   "cell_type": "code",
   "execution_count": null,
   "metadata": {},
   "outputs": [],
   "source": []
  },
  {
   "cell_type": "code",
   "execution_count": null,
   "metadata": {},
   "outputs": [],
   "source": []
  },
  {
   "cell_type": "code",
   "execution_count": null,
   "metadata": {},
   "outputs": [],
   "source": []
  },
  {
   "cell_type": "code",
   "execution_count": null,
   "metadata": {},
   "outputs": [],
   "source": []
  },
  {
   "cell_type": "code",
   "execution_count": null,
   "metadata": {},
   "outputs": [],
   "source": []
  }
 ],
 "metadata": {
  "kernelspec": {
   "display_name": "ai",
   "language": "python",
   "name": "python3"
  },
  "language_info": {
   "codemirror_mode": {
    "name": "ipython",
    "version": 3
   },
   "file_extension": ".py",
   "mimetype": "text/x-python",
   "name": "python",
   "nbconvert_exporter": "python",
   "pygments_lexer": "ipython3",
   "version": "3.13.2"
  }
 },
 "nbformat": 4,
 "nbformat_minor": 2
}
