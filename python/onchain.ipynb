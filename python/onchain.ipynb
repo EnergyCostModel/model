{
 "cells": [
  {
   "cell_type": "code",
   "execution_count": null,
   "metadata": {},
   "outputs": [],
   "source": [
    "import pandas as pd\n",
    "import requests\n",
    "import io\n",
    "import matplotlib.pyplot as plt\n",
    "import numpy as np\n",
    "from datetime import datetime\n",
    "import glob\n",
    "from scipy import stats\n",
    "import scienceplots\n",
    "\n",
    "plt.style.use('science')\n",
    "\n",
    "FOLDER = datetime.now().strftime('%Y%m%d')\n",
    "ASSETS = \"../assets/\"+FOLDER+\"/\"\n",
    "INPUT = \"../input/\"+FOLDER+\"/\"\n",
    "OUTPUT = \"../output/\"+FOLDER+\"/\"\n",
    "\n",
    "glob.os.makedirs(ASSETS, exist_ok=True)\n",
    "glob.os.makedirs(INPUT, exist_ok=True)\n",
    "glob.os.makedirs(OUTPUT, exist_ok=True)\n",
    "\n",
    "LINE_COLOR='#1B4244'\n",
    "\n"
   ]
  },
  {
   "cell_type": "code",
   "execution_count": null,
   "metadata": {},
   "outputs": [],
   "source": [
    "import requests, pandas as pd, time\n",
    "\n",
    "BASE = \"https://community-api.coinmetrics.io/v4/timeseries/asset-metrics\"\n",
    "\n",
    "def fetch_asset_metrics_json(assets, metrics, start_time, frequency=\"1d\", page_size=10000):\n",
    "    params = {\n",
    "        \"assets\": \",\".join(assets),\n",
    "        \"metrics\": \",\".join(metrics),\n",
    "        \"frequency\": frequency,\n",
    "        \"start_time\": start_time,\n",
    "        \"page_size\": page_size,\n",
    "        \"format\": \"json\",\n",
    "    }\n",
    "    url = BASE\n",
    "    all_rows = []\n",
    "\n",
    "    while url:\n",
    "        r = requests.get(url, params=params if url == BASE else None, timeout=30)\n",
    "        if r.status_code == 429:\n",
    "            # community limit: back off and retry\n",
    "            time.sleep(1.0)\n",
    "            continue\n",
    "        r.raise_for_status()\n",
    "        data = r.json()\n",
    "        all_rows.extend(data.get(\"data\", []))\n",
    "        # follow pagination\n",
    "        url = data.get(\"next_page_url\")\n",
    "        params = None  # only pass params on first call\n",
    "\n",
    "    return pd.DataFrame(all_rows)"
   ]
  },
  {
   "cell_type": "code",
   "execution_count": null,
   "metadata": {},
   "outputs": [],
   "source": [
    "df_onchain = fetch_asset_metrics_json(\n",
    "    assets=[\"btc\"],\n",
    "    metrics=[\"HashRate\", \"PriceUSD\", \"FeeTotUSD\"],\n",
    "    start_time=\"2009-01-03\",\n",
    ")"
   ]
  },
  {
   "cell_type": "code",
   "execution_count": null,
   "metadata": {},
   "outputs": [],
   "source": [
    "for col in [\"HashRate\", \"PriceUSD\", \"FeeTotUSD\"]:\n",
    "    if col in df_onchain:\n",
    "        df_onchain[col] = pd.to_numeric(df_onchain[col], errors=\"coerce\")"
   ]
  },
  {
   "cell_type": "code",
   "execution_count": null,
   "metadata": {},
   "outputs": [],
   "source": [
    "df_onchain[\"timestamp\"]=pd.to_datetime(df_onchain[\"time\"]).dt.date\n",
    "df_onchain[\"market_price\"]=df_onchain[\"PriceUSD\"]\n",
    "df_onchain[\"hash_rate\"]=df_onchain[\"HashRate\"]\n",
    "df_onchain[\"daily_transaction_fees\"]=df_onchain[\"FeeTotUSD\"]/df_onchain[\"PriceUSD\"]"
   ]
  },
  {
   "cell_type": "code",
   "execution_count": null,
   "metadata": {},
   "outputs": [],
   "source": [
    "df_onchain=df_onchain[[\"timestamp\", \"hash_rate\",\"market_price\", \"daily_transaction_fees\"]].fillna(0)"
   ]
  },
  {
   "cell_type": "code",
   "execution_count": null,
   "metadata": {},
   "outputs": [],
   "source": [
    "with plt.style.context(['science','ieee']):\n",
    "    plt.figure(figsize=(4, 2.25))\n",
    "    plt.grid(True, linestyle='-', alpha=0.7, linewidth=0.2)\n",
    "    plt.xticks(rotation=45)\n",
    "    plt.tight_layout()\n",
    "    plt.plot(df_onchain[\"timestamp\"], df_onchain[\"daily_transaction_fees\"],color=LINE_COLOR, linewidth=0.4)\n",
    "    plt.title('Daily Transaction Fees', fontsize=12)\n",
    "    plt.ylabel('Fee (BTC/day)', fontsize=10)\n",
    "    plt.legend()\n",
    "    plt.savefig(ASSETS+'transactionfees1.png')\n",
    "    plt.show()"
   ]
  },
  {
   "cell_type": "code",
   "execution_count": null,
   "metadata": {},
   "outputs": [],
   "source": [
    "with plt.style.context(['science','ieee']):\n",
    "    plt.figure(figsize=(4, 2.25))\n",
    "    plt.grid(True, linestyle='-', alpha=0.7, linewidth=0.2)\n",
    "    plt.xticks(rotation=45)\n",
    "    plt.tight_layout()\n",
    "    plt.plot(df_onchain[\"timestamp\"], df_onchain[\"hash_rate\"],color=LINE_COLOR, linewidth=0.4)\n",
    "    plt.title('Global Bitcoin Hashrate', fontsize=12)\n",
    "    plt.ylabel('Hashrate (TH/s)', fontsize=10)\n",
    "    plt.savefig(ASSETS+'hashrate1.png')\n",
    "    plt.show()"
   ]
  },
  {
   "cell_type": "code",
   "execution_count": null,
   "metadata": {},
   "outputs": [],
   "source": [
    "df_onchain.set_index(\"timestamp\").to_csv(OUTPUT+'onchain.csv')"
   ]
  },
  {
   "cell_type": "code",
   "execution_count": null,
   "metadata": {},
   "outputs": [],
   "source": [
    "import pandas as pd\n",
    "\n",
    "def create_btc_time_series():\n",
    "    # Define the data as lists\n",
    "    years = [\n",
    "        '2009-01-03', '2012-11-28', '2016-06-09', '2020-05-11', '2024-04-20', '2028-06-01', '2032-06-01', '2036-06-01', \n",
    "        '2040-06-01', '2044-06-01', '2048-06-01', '2052-06-01', '2056-06-01', '2060-06-01', '2064-06-01', '2068-06-01', \n",
    "        '2072-06-01', '2076-06-01', '2080-06-01', '2084-06-01', '2088-06-01', '2092-06-01', '2096-06-01', '2100-06-01', \n",
    "        '2104-06-01', '2108-06-01', '2112-06-01', '2116-06-01', '2120-06-01', '2124-06-01', '2128-06-01', '2132-06-01', \n",
    "        '2136-06-01', '2140-06-01'\n",
    "    ]\n",
    "\n",
    "    block_reward = [\n",
    "        50, 25, 12.5, 6.25, 3.125, 1.5625, 0.78125, 0.390625, 0.1953125,\n",
    "        0.09765625, 0.048828125, 0.024414063, 0.012207031, 0.006103516,\n",
    "        0.003051758, 0.001525879, 0.000762939, 0.00038147, 0.000190735,\n",
    "        0.000095367, 0.000047684, 0.000023842, 0.000011921, 0.00000596,\n",
    "        0.00000298, 0.00000149, 0.00000075, 0.00000037, 0.00000019,\n",
    "        0.00000009, 0.00000005, 0.00000002, 0.00000001, 0.00000001\n",
    "    ]\n",
    "\n",
    "    total_btc_mined = [\n",
    "        0, 10500000, 15750000, 18375000, 19687500, 20343750, 20671875,\n",
    "        20835937.5, 20917968.75, 20958984.375, 20979492.1875, 20989746.09375,\n",
    "        20994873.046875, 20997436.5234375, 20998718.26171875, 20999359.130859375,\n",
    "        20999679.565429688, 20999839.782714844, 20999919.891357422,\n",
    "        20999959.945678711, 20999979.972839355, 20999989.986419678,\n",
    "        20999994.993209839, 20999997.496604919, 20999998.74830246,\n",
    "        20999999.37415123, 20999999.687075615, 20999999.843537807,\n",
    "        20999999.921768904, 20999999.960884452, 20999999.980442226,\n",
    "        20999999.990221113, 20999999.995110556, 21000000\n",
    "    ]\n",
    "\n",
    "    new_btc_mined = [\n",
    "        0, 10500000, 5250000, 2625000, 1312500, 656250, 328125, 164062.5,\n",
    "        82031.25, 41015.625, 20507.8125, 10253.90625, 5126.953125,\n",
    "        2563.4765625, 1281.73828125, 640.869140625, 320.4345703125,\n",
    "        160.21728515625, 80.108642578125, 40.0543212890625, 20.02716064453125,\n",
    "        10.013580322265625, 5.0067901611328125, 2.5033950805664062,\n",
    "        1.2516975402832031, 0.6258487701416016, 0.3129243850708008,\n",
    "        0.1564621925354004, 0.0782310962677002, 0.0391155481338501,\n",
    "        0.01955777406692505, 0.009778887033462525, 0.0048894435167312625,\n",
    "        0.0048894435167312625\n",
    "    ]\n",
    "\n",
    "    pct_all_btc_mined = [\n",
    "        \"0.00%\", \"50.00%\", \"75.00%\", \"87.50%\", \"93.75%\", \"96.88%\", \"98.44%\",\n",
    "        \"99.22%\", \"99.61%\", \"99.80%\", \"99.90%\", \"99.95%\", \"99.98%\", \"99.99%\",\n",
    "        \"99.994%\", \"99.997%\", \"99.998%\", \"99.999%\", \"99.9996%\", \"99.9998%\",\n",
    "        \"99.9999%\", \"99.99995%\", \"99.99998%\", \"99.99999%\", \"99.999994%\",\n",
    "        \"99.999997%\", \"99.999999%\", \"99.9999993%\", \"99.9999996%\",\n",
    "        \"99.9999998%\", \"99.9999999%\", \"99.99999995%\", \"99.99999998%\", \"100.00%\"\n",
    "    ]\n",
    "\n",
    "    # Create a DataFrame from the data\n",
    "    df = pd.DataFrame({\n",
    "        'Year': years,\n",
    "        'Block Reward': block_reward,\n",
    "        'Total BTC Mined': total_btc_mined,\n",
    "        'New BTC Mined': new_btc_mined,\n",
    "        '% of All BTC Mined': pct_all_btc_mined\n",
    "    })\n",
    "\n",
    "    # Convert the 'Year' column to a datetime column representing January 1 of that year\n",
    "    df['Date'] = pd.to_datetime(df['Year'])\n",
    "\n",
    "    # Set the datetime column as the index and drop the 'Year' column if desired\n",
    "    df.set_index('Date', inplace=True)\n",
    "    df.drop(columns='Year', inplace=True)\n",
    "\n",
    "    return df"
   ]
  },
  {
   "cell_type": "code",
   "execution_count": null,
   "metadata": {},
   "outputs": [],
   "source": [
    "sim_btc = create_btc_time_series()\n",
    "sim_btc"
   ]
  },
  {
   "cell_type": "code",
   "execution_count": null,
   "metadata": {},
   "outputs": [],
   "source": [
    "sim_btc_res= sim_btc[['Total BTC Mined']].resample('D').interpolate(method='linear')"
   ]
  },
  {
   "cell_type": "code",
   "execution_count": null,
   "metadata": {},
   "outputs": [],
   "source": [
    "sim_btc_res.rename(columns={'Total BTC Mined':'total_bitcoins'}).to_csv(OUTPUT+'simulated_bitcoins.csv')\n",
    "sim_btc.rename(columns={'Total BTC Mined':'total_bitcoins'}).to_csv(OUTPUT+'simulated_bitcoins_lores.csv')"
   ]
  },
  {
   "cell_type": "code",
   "execution_count": null,
   "metadata": {},
   "outputs": [],
   "source": [
    "df_supply = fetch_asset_metrics_json(\n",
    "    assets=[\"btc\"],\n",
    "    metrics=[\"SplyCur\"],\n",
    "    start_time=\"2009-01-03\",\n",
    ")\n",
    "df_supply[\"SplyCur\"] = pd.to_numeric(df_supply[\"SplyCur\"], errors=\"coerce\")"
   ]
  },
  {
   "cell_type": "code",
   "execution_count": null,
   "metadata": {},
   "outputs": [],
   "source": [
    "df_supply[\"timestamp\"]=pd.to_datetime(df_supply[\"time\"]).dt.date\n",
    "df_supply[\"total_bitcoins\"]=df_supply[\"SplyCur\"]"
   ]
  },
  {
   "cell_type": "code",
   "execution_count": null,
   "metadata": {},
   "outputs": [],
   "source": [
    "df_supply = df_supply[[\"timestamp\", \"total_bitcoins\"]]\n",
    "df_supply.set_index('timestamp', inplace=True)"
   ]
  },
  {
   "cell_type": "code",
   "execution_count": null,
   "metadata": {},
   "outputs": [],
   "source": [
    "with plt.style.context(['science','ieee']):\n",
    "    plt.figure(figsize=(4, 3))\n",
    "    plt.plot(df_supply.index, df_supply['total_bitcoins'], label='Mined Bitcoins', linewidth=0.4, color=LINE_COLOR)\n",
    "    plt.plot(sim_btc_res.index, sim_btc_res['Total BTC Mined'], 'r-', label='Simulated Mined Bitcoins' , linewidth=0.4)\n",
    "    plt.vlines(sim_btc.index,0,sim_btc['Total BTC Mined'], colors='b', linestyles='dashed', label='Halving Events', linewidth=0.2)\n",
    "\n",
    "    plt.title('Mined Bitcoins', fontsize=12)\n",
    "    plt.ylabel('Bitcoins (BTC)', fontsize=10)\n",
    "    plt.grid(True, linestyle='--', alpha=0.7)\n",
    "    plt.legend()\n",
    "    # Rotate x-axis labels for better readability\n",
    "    plt.xticks(rotation=45)\n",
    "\n",
    "    # Add some padding to prevent label cutoff\n",
    "    plt.tight_layout()\n",
    "    plt.show()"
   ]
  },
  {
   "cell_type": "code",
   "execution_count": null,
   "metadata": {},
   "outputs": [],
   "source": [
    "future_bitcoins = sim_btc_res[df_supply.index[-1]:][['Total BTC Mined']].rename(columns={'Total BTC Mined': 'total_bitcoins'})"
   ]
  },
  {
   "cell_type": "code",
   "execution_count": null,
   "metadata": {},
   "outputs": [],
   "source": [
    "delta = df_supply[\"total_bitcoins\"][-1]-future_bitcoins['total_bitcoins'][0]\n",
    "df_supply[\"total_bitcoins\"][-1],future_bitcoins['total_bitcoins'][0]"
   ]
  },
  {
   "cell_type": "code",
   "execution_count": null,
   "metadata": {},
   "outputs": [],
   "source": [
    "future_bitcoins['total_bitcoins'] = future_bitcoins['total_bitcoins']+delta"
   ]
  },
  {
   "cell_type": "code",
   "execution_count": null,
   "metadata": {},
   "outputs": [],
   "source": [
    "df_supply[\"total_bitcoins\"][-1],future_bitcoins['total_bitcoins'][0]"
   ]
  },
  {
   "cell_type": "code",
   "execution_count": null,
   "metadata": {},
   "outputs": [],
   "source": [
    "df_supply = pd.concat([df_supply, future_bitcoins[1:]], axis=0)"
   ]
  },
  {
   "cell_type": "code",
   "execution_count": null,
   "metadata": {},
   "outputs": [],
   "source": [
    "difff=sim_btc_res.diff()"
   ]
  },
  {
   "cell_type": "code",
   "execution_count": null,
   "metadata": {},
   "outputs": [],
   "source": [
    "with plt.style.context(['science','ieee']):\n",
    "    plt.figure(figsize=(4, 2.25))\n",
    "    plt.grid(True, linestyle='-', alpha=0.7, linewidth=0.2)\n",
    "    plt.xticks(rotation=45)\n",
    "    plt.tight_layout()\n",
    "    plt.plot(difff.index[2:], difff['Total BTC Mined'][2:], color=LINE_COLOR, linewidth=0.4)\n",
    "    plt.ylabel('Reward (BTC)')\n",
    "    plt.title('Daily Block Rewards')\n",
    "    plt.savefig(ASSETS+'blockrewards1.png')\n",
    "    plt.show()"
   ]
  },
  {
   "cell_type": "code",
   "execution_count": null,
   "metadata": {},
   "outputs": [],
   "source": [
    "with plt.style.context(['science','ieee']):\n",
    "    plt.figure(figsize=(4, 2.25))\n",
    "    plt.grid(True, linestyle='-', alpha=0.7, linewidth=0.2)\n",
    "    plt.xticks(rotation=45)\n",
    "    plt.tight_layout()\n",
    "    plt.plot(df_supply.index, df_supply['total_bitcoins'],color=LINE_COLOR, linewidth=0.4, label='Mined Bitcoins')\n",
    "    plt.vlines(sim_btc.index,0,sim_btc['Total BTC Mined'], colors='b', linestyles='dashed', label='Halving Events', linewidth=0.2)\n",
    "    plt.title('Bitcoins in Circulation', fontsize=12)\n",
    "    plt.ylabel('Bitcoins (BTC)', fontsize=10)\n",
    "    plt.legend()\n",
    "    plt.savefig(ASSETS+'minedbitcoin1.png')\n",
    "    plt.show()"
   ]
  },
  {
   "cell_type": "code",
   "execution_count": null,
   "metadata": {},
   "outputs": [],
   "source": [
    "df_supply.reset_index(inplace=True)\n",
    "df_supply[\"index\"]=pd.to_datetime(df_supply[\"index\"]).dt.date\n",
    "df_supply.set_index('index', inplace=True)"
   ]
  },
  {
   "cell_type": "code",
   "execution_count": null,
   "metadata": {},
   "outputs": [],
   "source": [
    "df_supply[[\"total_bitcoins\"]].to_csv(OUTPUT+'total_bitcoins.csv')"
   ]
  },
  {
   "cell_type": "code",
   "execution_count": null,
   "metadata": {},
   "outputs": [],
   "source": []
  },
  {
   "cell_type": "code",
   "execution_count": null,
   "metadata": {},
   "outputs": [],
   "source": []
  },
  {
   "cell_type": "code",
   "execution_count": null,
   "metadata": {},
   "outputs": [],
   "source": []
  },
  {
   "cell_type": "code",
   "execution_count": null,
   "metadata": {},
   "outputs": [],
   "source": []
  },
  {
   "cell_type": "code",
   "execution_count": null,
   "metadata": {},
   "outputs": [],
   "source": []
  },
  {
   "cell_type": "code",
   "execution_count": null,
   "metadata": {},
   "outputs": [],
   "source": []
  },
  {
   "cell_type": "code",
   "execution_count": null,
   "metadata": {},
   "outputs": [],
   "source": []
  },
  {
   "cell_type": "code",
   "execution_count": null,
   "metadata": {},
   "outputs": [],
   "source": []
  },
  {
   "cell_type": "code",
   "execution_count": null,
   "metadata": {},
   "outputs": [],
   "source": []
  },
  {
   "cell_type": "code",
   "execution_count": null,
   "metadata": {},
   "outputs": [],
   "source": []
  },
  {
   "cell_type": "code",
   "execution_count": null,
   "metadata": {},
   "outputs": [],
   "source": []
  },
  {
   "cell_type": "code",
   "execution_count": null,
   "metadata": {},
   "outputs": [],
   "source": []
  },
  {
   "cell_type": "code",
   "execution_count": null,
   "metadata": {},
   "outputs": [],
   "source": []
  },
  {
   "cell_type": "code",
   "execution_count": null,
   "metadata": {},
   "outputs": [],
   "source": []
  },
  {
   "cell_type": "code",
   "execution_count": null,
   "metadata": {},
   "outputs": [],
   "source": []
  },
  {
   "cell_type": "code",
   "execution_count": null,
   "metadata": {},
   "outputs": [],
   "source": []
  },
  {
   "cell_type": "code",
   "execution_count": null,
   "metadata": {},
   "outputs": [],
   "source": []
  },
  {
   "cell_type": "code",
   "execution_count": null,
   "metadata": {},
   "outputs": [],
   "source": []
  },
  {
   "cell_type": "code",
   "execution_count": null,
   "metadata": {},
   "outputs": [],
   "source": []
  },
  {
   "cell_type": "code",
   "execution_count": null,
   "metadata": {},
   "outputs": [],
   "source": []
  },
  {
   "cell_type": "code",
   "execution_count": null,
   "metadata": {},
   "outputs": [],
   "source": []
  },
  {
   "cell_type": "code",
   "execution_count": null,
   "metadata": {},
   "outputs": [],
   "source": []
  },
  {
   "cell_type": "code",
   "execution_count": null,
   "metadata": {},
   "outputs": [],
   "source": []
  }
 ],
 "metadata": {
  "kernelspec": {
   "display_name": "ai",
   "language": "python",
   "name": "python3"
  },
  "language_info": {
   "codemirror_mode": {
    "name": "ipython",
    "version": 3
   },
   "file_extension": ".py",
   "mimetype": "text/x-python",
   "name": "python",
   "nbconvert_exporter": "python",
   "pygments_lexer": "ipython3",
   "version": "3.13.2"
  }
 },
 "nbformat": 4,
 "nbformat_minor": 2
}
