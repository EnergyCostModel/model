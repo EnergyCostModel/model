{
 "cells": [
  {
   "cell_type": "code",
   "execution_count": null,
   "metadata": {},
   "outputs": [],
   "source": [
    "import pandas as pd\n",
    "import numpy as np\n",
    "import matplotlib.pyplot as plt\n",
    "from scipy import stats\n",
    "import matplotlib.pyplot as plt\n",
    "from datetime import datetime\n",
    "import glob\n",
    "\n",
    "import scienceplots\n",
    "\n",
    "plt.style.use('science')"
   ]
  },
  {
   "cell_type": "code",
   "execution_count": null,
   "metadata": {},
   "outputs": [],
   "source": [
    "FOLDER = datetime.now().strftime('%Y%m%d')\n",
    "\n",
    "ASSETS = \"../assets/\"+FOLDER+\"/\"\n",
    "INPUT = \"../input/\"+FOLDER+\"/\"\n",
    "OUTPUT = \"../output/\"+FOLDER+\"/\"\n",
    "\n",
    "glob.os.makedirs(ASSETS, exist_ok=True)\n",
    "glob.os.makedirs(INPUT, exist_ok=True)\n",
    "glob.os.makedirs(OUTPUT, exist_ok=True)\n",
    "\n",
    "LINE_COLOR='#1B4244'"
   ]
  },
  {
   "cell_type": "code",
   "execution_count": null,
   "metadata": {},
   "outputs": [],
   "source": [
    "\n",
    "data = {\n",
    "    'Release Date': ['2009-01', '2010-10', '2011-08', '2013-01', '2013-10', '2013-12', '2014-12', '2015-09', '2016-06', '2018-04', '2019-04', '2020-03', '2022-07', '2023-08'],\n",
    "    'Miner Hardware (Manufacturer)': ['CPU Mining (Intel Core i5-650)', 'GPU – ATI Radeon HD 5870 (ATI)', 'FPGA – X6500 Miner (FPGA Mining LLC)', 'ASIC – AvalonMiner Batch 1 (Canaan)', 'ASIC – KnC Jupiter (KnCMiner)', 'ASIC – Antminer U1 USB (Bitmain)', 'ASIC – Antminer S5 (Bitmain)', 'ASIC – Antminer S7 (Bitmain)', 'ASIC – Antminer S9 (Bitmain)', 'ASIC – Antminer S15 (Bitmain)', 'ASIC – Antminer S17 (Bitmain)', 'ASIC – Antminer S19 Pro (Bitmain)', 'ASIC – Antminer S19 XP (Bitmain)', 'ASIC – Antminer S21 (Bitmain)'],\n",
    "    'Efficiency (J/TH)': ['~5,000,000', '~264,550', '~43,000', '~9,351', '~1,500', '~1,250',  '~510', '~250', '~96', '~57', '~40', '~29.5', '~21', '~16–17.5']\n",
    "}\n",
    "\n",
    "miner_efficiency = pd.DataFrame(data)\n",
    "\n",
    "# Convert 'Release Date' to datetime\n",
    "miner_efficiency['Release Date'] = pd.to_datetime(miner_efficiency['Release Date'])\n",
    "\n",
    "#Clean efficiency and convert it to numeric\n",
    "miner_efficiency['Efficiency (J/TH)'] = miner_efficiency['Efficiency (J/TH)'].str.replace('~', '', regex=False)\n",
    "miner_efficiency['Efficiency (J/TH)'] = miner_efficiency['Efficiency (J/TH)'].str.replace(',', '', regex=False)\n",
    "miner_efficiency['Efficiency (J/TH)'] = miner_efficiency['Efficiency (J/TH)'].str.split('–').str[0] #handle range values\n",
    "miner_efficiency['Efficiency (J/TH)'] = pd.to_numeric(miner_efficiency['Efficiency (J/TH)'], errors='coerce')\n",
    "\n",
    "#Set 'Release Date' as index\n",
    "miner_efficiency = miner_efficiency.set_index('Release Date')\n",
    "\n",
    "print(miner_efficiency.to_markdown())"
   ]
  },
  {
   "cell_type": "code",
   "execution_count": null,
   "metadata": {},
   "outputs": [],
   "source": [
    "with plt.style.context(['science','ieee']):\n",
    "    plt.figure(figsize=(4, 2.25))\n",
    "    plt.grid(True, linestyle='-', alpha=0.7, linewidth=0.2)\n",
    "    plt.xticks(rotation=45)\n",
    "    plt.tight_layout()\n",
    "    plt.plot(miner_efficiency.index, miner_efficiency['Efficiency (J/TH)'],\n",
    "                    color=LINE_COLOR, marker='.', linestyle='-', linewidth=0.75)\n",
    "    for date in miner_efficiency.index:\n",
    "        y = miner_efficiency.loc[date, 'Efficiency (J/TH)']\n",
    "        label = miner_efficiency.loc[date, 'Miner Hardware (Manufacturer)'].split(' (')[0].split('– ')[-1]\n",
    "        plt.annotate(label, \n",
    "                    xy=(date, y),\n",
    "                    xytext=(3, 0),\n",
    "                    textcoords='offset points',\n",
    "                    ha='left',\n",
    "                    color='gray',\n",
    "                    va='center')\n",
    "    # Rotate x-axis labels for better readability\n",
    "    plt.ylabel('Efficiency (J/TH)')\n",
    "    plt.title('(log scale) Bitcoin Miner Efficiency Over Time')\n",
    "    plt.yscale('log')\n",
    "    plt.savefig(ASSETS+'efficiency1.png')\n",
    "    plt.show()"
   ]
  },
  {
   "cell_type": "code",
   "execution_count": null,
   "metadata": {},
   "outputs": [],
   "source": [
    "miner_efficiency.to_csv(OUTPUT+'miner_efficiency.csv')"
   ]
  },
  {
   "cell_type": "code",
   "execution_count": null,
   "metadata": {},
   "outputs": [],
   "source": [
    "miner_efficiency"
   ]
  },
  {
   "cell_type": "code",
   "execution_count": null,
   "metadata": {},
   "outputs": [],
   "source": []
  },
  {
   "cell_type": "code",
   "execution_count": null,
   "metadata": {},
   "outputs": [],
   "source": []
  }
 ],
 "metadata": {
  "kernelspec": {
   "display_name": "ai",
   "language": "python",
   "name": "python3"
  },
  "language_info": {
   "codemirror_mode": {
    "name": "ipython",
    "version": 3
   },
   "file_extension": ".py",
   "mimetype": "text/x-python",
   "name": "python",
   "nbconvert_exporter": "python",
   "pygments_lexer": "ipython3",
   "version": "3.13.2"
  }
 },
 "nbformat": 4,
 "nbformat_minor": 2
}
